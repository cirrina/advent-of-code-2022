{
 "cells": [
  {
   "cell_type": "code",
   "execution_count": 21,
   "metadata": {},
   "outputs": [
    {
     "name": "stdout",
     "output_type": "stream",
     "text": [
      "1042, ['d', 'j', 'r', 'h']\n"
     ]
    }
   ],
   "source": [
    "## --- Day 6: Tuning Trouble ---\n",
    "signal_length=4\n",
    "signal=['']*signal_length\n",
    "\n",
    "with open('input-day-6.txt', 'r') as f:\n",
    "    for i, letter in enumerate(iter(lambda: f.read(1), ''), start=1):\n",
    "        signal.insert(0,letter)\n",
    "        signal.pop()\n",
    "        # print(f'{i}, {signal}')\n",
    "        if not '' in signal and len(set(signal)) == signal_length:\n",
    "            break\n",
    "\n",
    "print(f'{i}, {signal}')"
   ]
  },
  {
   "cell_type": "code",
   "execution_count": 19,
   "metadata": {},
   "outputs": [
    {
     "name": "stdout",
     "output_type": "stream",
     "text": [
      "2980, ['w', 'n', 'g', 'c', 'd', 'r', 's', 'l', 'j', 'v', 'm', 'b', 'z', 'f']\n"
     ]
    }
   ],
   "source": [
    "## --- Day 6b: Tuning Trouble ---\n",
    "marker_length=14\n",
    "signal=['']*marker_length\n",
    "\n",
    "with open('input-day-6.txt', 'r') as f:\n",
    "    for i, letter in enumerate(iter(lambda: f.read(1), ''), start=1):\n",
    "        signal.insert(0,letter)\n",
    "        signal.pop()\n",
    "        if not '' in signal and len(set(signal)) == marker_length:\n",
    "            break\n",
    "\n",
    "print(f'{i}, {signal}')"
   ]
  }
 ],
 "metadata": {
  "kernelspec": {
   "display_name": "Python 3",
   "language": "python",
   "name": "python3"
  },
  "language_info": {
   "codemirror_mode": {
    "name": "ipython",
    "version": 3
   },
   "file_extension": ".py",
   "mimetype": "text/x-python",
   "name": "python",
   "nbconvert_exporter": "python",
   "pygments_lexer": "ipython3",
   "version": "3.11.0"
  },
  "orig_nbformat": 4,
  "vscode": {
   "interpreter": {
    "hash": "1a1af0ee75eeea9e2e1ee996c87e7a2b11a0bebd85af04bb136d915cefc0abce"
   }
  }
 },
 "nbformat": 4,
 "nbformat_minor": 2
}

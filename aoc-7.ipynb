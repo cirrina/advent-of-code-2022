{
 "cells": [
  {
   "cell_type": "code",
   "execution_count": 7,
   "metadata": {},
   "outputs": [
    {
     "name": "stdout",
     "output_type": "stream",
     "text": [
      "apa\n",
      "['']\n"
     ]
    }
   ],
   "source": [
    "\n",
    "import re\n",
    "\n",
    "# the filesystem is a dictionary\n",
    "dirClass class \n",
    "\n",
    "dir_dict={\n",
    "        'apa' : {\n",
    "            'gris' : {}\n",
    "        },\n",
    "        'gris' :{}\n",
    "    } \n",
    "\n",
    "# files within each dir as dicts\n",
    "files_dict={\n",
    "    '':[]\n",
    "    }\n",
    "\n",
    "cwd=[''] # to keep track where we are in the fs. a list with dirnames\n",
    "def checkdir(cwd, dir_dict):\n",
    "    dir_dict_check=dir_dict\n",
    "    for d in range(0,len(cwd)):\n",
    "        if not cwd[d] in dir_dict_check: \n",
    "            return False\n",
    "        dir_dict_check=dir_dict_check[cwd[d]]\n",
    "    return True\n",
    "\n",
    "row='$ cd apa'\n",
    "if re.findall(r'\\$.*', row): # found a command to execute\n",
    "    if re.findall(r'\\$ cd \\/', row):\n",
    "        cwd=['']\n",
    "    elif re.findall(r'\\$ cd \\.\\.', row):\n",
    "        if len(cwd)>1: cwd.pop()\n",
    "    elif re.findall(r'\\$ cd (\\S+)', row):\n",
    "        dirname = re.findall(r'\\$ cd (\\S+)', row).pop(0)\n",
    "        cwd=cwd.append(dirname)\n",
    "        if dirname not in dir_dict[]\n",
    "\n",
    "\n",
    "print(fs_i)"
   ]
  },
  {
   "cell_type": "code",
   "execution_count": 11,
   "metadata": {},
   "outputs": [
    {
     "ename": "NameError",
     "evalue": "name 'size' is not defined",
     "output_type": "error",
     "traceback": [
      "\u001b[0;31m---------------------------------------------------------------------------\u001b[0m",
      "\u001b[0;31mNameError\u001b[0m                                 Traceback (most recent call last)",
      "Cell \u001b[0;32mIn[11], line 15\u001b[0m\n\u001b[1;32m     12\u001b[0m         \u001b[39mprint\u001b[39m(\u001b[39mf\u001b[39m\u001b[39m'\u001b[39m\u001b[39m{\u001b[39;00msize\u001b[39m}\u001b[39;00m\u001b[39m \u001b[39m\u001b[39m{\u001b[39;00msize\u001b[39m}\u001b[39;00m\u001b[39m'\u001b[39m) \n\u001b[1;32m     14\u001b[0m file1 \u001b[39m=\u001b[39m fileClass(\u001b[39m'\u001b[39m\u001b[39mapa.txt\u001b[39m\u001b[39m'\u001b[39m, \u001b[39m300\u001b[39m)\n\u001b[0;32m---> 15\u001b[0m file1\u001b[39m.\u001b[39;49mls()\n\u001b[1;32m     17\u001b[0m dir_dict\u001b[39m=\u001b[39m{\n\u001b[1;32m     18\u001b[0m         \u001b[39m'\u001b[39m\u001b[39mapa\u001b[39m\u001b[39m'\u001b[39m : {\n\u001b[1;32m     19\u001b[0m             \u001b[39m'\u001b[39m\u001b[39mgris\u001b[39m\u001b[39m'\u001b[39m : {}\n\u001b[1;32m     20\u001b[0m         },\n\u001b[1;32m     21\u001b[0m         \u001b[39m'\u001b[39m\u001b[39mgris\u001b[39m\u001b[39m'\u001b[39m :{}\n\u001b[1;32m     22\u001b[0m     } \n",
      "Cell \u001b[0;32mIn[11], line 12\u001b[0m, in \u001b[0;36mfileClass.ls\u001b[0;34m(self)\u001b[0m\n\u001b[1;32m     11\u001b[0m \u001b[39mdef\u001b[39;00m \u001b[39mls\u001b[39m(\u001b[39mself\u001b[39m):\n\u001b[0;32m---> 12\u001b[0m     \u001b[39mprint\u001b[39m(\u001b[39mf\u001b[39m\u001b[39m'\u001b[39m\u001b[39m{\u001b[39;00msize\u001b[39m}\u001b[39;00m\u001b[39m \u001b[39m\u001b[39m{\u001b[39;00msize\u001b[39m}\u001b[39;00m\u001b[39m'\u001b[39m)\n",
      "\u001b[0;31mNameError\u001b[0m: name 'size' is not defined"
     ]
    }
   ],
   "source": [
    "import re\n",
    "\n",
    "# def parseCmd ():\n",
    "\n",
    "\n",
    "# the filesystem is a dictionary\n",
    "class fileClass:\n",
    "    def __init__(self, name, size):\n",
    "        self.name = name\n",
    "        self.size = size\n",
    "    def ls(self):\n",
    "        print(f'{self.size} {self.size}') \n",
    "          \n",
    "file1 = fileClass('apa.txt', 300)\n",
    "file1.ls()\n",
    "\n",
    "dir_dict={\n",
    "        'apa' : {\n",
    "            'gris' : {}\n",
    "        },\n",
    "        'gris' :{}\n",
    "    } \n"
   ]
  }
 ],
 "metadata": {
  "kernelspec": {
   "display_name": "Python 3",
   "language": "python",
   "name": "python3"
  },
  "language_info": {
   "codemirror_mode": {
    "name": "ipython",
    "version": 3
   },
   "file_extension": ".py",
   "mimetype": "text/x-python",
   "name": "python",
   "nbconvert_exporter": "python",
   "pygments_lexer": "ipython3",
   "version": "3.11.0"
  },
  "orig_nbformat": 4,
  "vscode": {
   "interpreter": {
    "hash": "1a1af0ee75eeea9e2e1ee996c87e7a2b11a0bebd85af04bb136d915cefc0abce"
   }
  }
 },
 "nbformat": 4,
 "nbformat_minor": 2
}
